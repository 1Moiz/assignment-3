{
 "cells": [
  {
   "cell_type": "markdown",
   "metadata": {},
   "source": [
    "<h3>Q no 1:  Write a python program to find number of occurrences of given number in a list with out using built-in methods</h3>\n",
    "<h4>**1 generate a list of some random num which is repeated again and again</h4>\n",
    "<h4>**2 take user input any number</h4>\n",
    "<h4>**3 find the number of occurrences of that num in your list</h4>\n",
    "<h4>**4 print some message to user with that result</h4>"
   ]
  },
  {
   "cell_type": "code",
   "execution_count": 36,
   "metadata": {},
   "outputs": [
    {
     "name": "stdout",
     "output_type": "stream",
     "text": [
      "Enter Number :23\n",
      "4 times repeating\n"
     ]
    }
   ],
   "source": [
    "lst = [23,45,43,23,43,23,45,43,23,47]\n",
    "num = int(input(\"Enter Number :\"))\n",
    "def countX(lst, num):\n",
    "    count = 0\n",
    "    for i in lst:\n",
    "        if(i == num):\n",
    "            count +=1\n",
    "    return count\n",
    "print(countX(lst,num),\"times repeating\")"
   ]
  },
  {
   "cell_type": "code",
   "execution_count": null,
   "metadata": {},
   "outputs": [],
   "source": []
  },
  {
   "cell_type": "markdown",
   "metadata": {},
   "source": [
    "# <h3>Q no 2:   [\"www.zframez.com\", \"www.wikipedia.org\", \"www.asp.net\", \"www.abcd.in\"]\n",
    "<br/><br/><br/><br/><br/>\n",
    "Write a python program to print website suffixes (com , org , net ,in) from this list\n",
    "\n",
    "Hint : Use split() method to perform this task\n",
    "</h3>\n"
   ]
  },
  {
   "cell_type": "code",
   "execution_count": 20,
   "metadata": {},
   "outputs": [
    {
     "name": "stdout",
     "output_type": "stream",
     "text": [
      "com\n",
      "org\n",
      "net\n",
      "in\n",
      "com\n",
      "org\n",
      "net\n",
      "in\n"
     ]
    }
   ],
   "source": [
    "lst = [\"www.zframez.com\",\"www.wikipedia.org\",\"www.asp.net\",\"www.abcd.in\"]\n",
    "for i in lst:\n",
    "    print(i.split('.')[-1])\n",
    "                    #OR\n",
    "print(\"www.zframez.com\".split('.')[-1])\n",
    "print( \"www.wikipedia.org\".split('.')[-1])\n",
    "print(\"www.asp.net\".split('.')[-1])\n",
    "print(\"www.abcd.in\".split('.')[-1])"
   ]
  },
  {
   "cell_type": "code",
   "execution_count": null,
   "metadata": {},
   "outputs": [],
   "source": []
  },
  {
   "cell_type": "markdown",
   "metadata": {},
   "source": [
    "<h3> Q no 3 : Write a program which can compute the factorial of a given numbers.</h3>\n",
    "<br/>\n",
    "<br/>\n",
    "<h4>**1 first take user input any number</h4>\n",
    "<h4>**2 calculate factorial of that input and then print the result to user</h4>"
   ]
  },
  {
   "cell_type": "code",
   "execution_count": 16,
   "metadata": {},
   "outputs": [
    {
     "name": "stdout",
     "output_type": "stream",
     "text": [
      "Enter a number : 3\n",
      "The factorial of 3 is 6\n"
     ]
    }
   ],
   "source": [
    "num = int(input(\"Enter a number : \"))\n",
    "factorial = 1\n",
    "if num < 0:\n",
    "    print(\"Sorry, We can't find Factorial of negative numbers\")\n",
    "elif num == 0:\n",
    "    print(\"The Factorial of 0 is 1\")\n",
    "else:\n",
    "    for i in range(1,num + 1):\n",
    "        factorial = factorial * i\n",
    "print(\"The factorial of\",num,\"is\",factorial)\n",
    "\n"
   ]
  },
  {
   "cell_type": "code",
   "execution_count": null,
   "metadata": {},
   "outputs": [],
   "source": []
  },
  {
   "cell_type": "code",
   "execution_count": null,
   "metadata": {},
   "outputs": [],
   "source": []
  },
  {
   "cell_type": "code",
   "execution_count": null,
   "metadata": {},
   "outputs": [],
   "source": []
  },
  {
   "cell_type": "markdown",
   "metadata": {},
   "source": [
    "<h3>Q 4 (a) :  If you could invite anyone, living or deceased, to dinner, who\n",
    "would you invite? Make a list that includes at least three people you’d like to\n",
    "invite to dinner. Then use your list to print a message to each person, inviting\n",
    "them to dinner.</h3>"
   ]
  },
  {
   "cell_type": "code",
   "execution_count": 17,
   "metadata": {},
   "outputs": [
    {
     "name": "stdout",
     "output_type": "stream",
     "text": [
      "Ali ,I invite you on dinner at 8:00 O'clock\n",
      "Umar ,I invite you on dinner at 8:00 O'clock\n",
      "Asad ,I invite you on dinner at 8:00 O'clock\n"
     ]
    }
   ],
   "source": [
    "lst = ['Ali','Umar','Asad']\n",
    "for x in lst:\n",
    "    print(x,\",I invite you on dinner at 8:00 O'clock\")"
   ]
  },
  {
   "cell_type": "code",
   "execution_count": 47,
   "metadata": {},
   "outputs": [
    {
     "data": {
      "text/plain": [
       "[0]"
      ]
     },
     "execution_count": 47,
     "metadata": {},
     "output_type": "execute_result"
    }
   ],
   "source": []
  },
  {
   "cell_type": "code",
   "execution_count": null,
   "metadata": {},
   "outputs": [],
   "source": []
  },
  {
   "cell_type": "markdown",
   "metadata": {},
   "source": [
    "<h3>Q 4 (b) : You just heard that one of your guests can’t make the\n",
    "dinner, so you need to send out a new set of invitations. You’ll have to think of\n",
    "someone else to invite.<br/></br><br/>\n",
    "•\t Start with your program from Q 4 (a). Add a print statement at the\n",
    "end of your program stating the name of the guest who can’t make it.<br/></br><br/>\n",
    "•\t Modify your list, replacing the name of the guest who can’t make it with\n",
    "the name of the new person you are inviting.<br/></br><br/>\n",
    "•\t Print a second set of invitation messages, one for each person who is still\n",
    "in your list.<br/></br><br/></h3>"
   ]
  },
  {
   "cell_type": "code",
   "execution_count": 53,
   "metadata": {},
   "outputs": [
    {
     "name": "stdout",
     "output_type": "stream",
     "text": [
      "Ali Can't make the dinner\n"
     ]
    }
   ],
   "source": [
    "print(lst[0],\"Can't make the dinner\")"
   ]
  },
  {
   "cell_type": "code",
   "execution_count": 58,
   "metadata": {},
   "outputs": [],
   "source": [
    "lst[lst.index(\"Ali\")] = \"Ushba\""
   ]
  },
  {
   "cell_type": "code",
   "execution_count": 59,
   "metadata": {},
   "outputs": [
    {
     "data": {
      "text/plain": [
       "['Ushba', 'Umar', 'Asad']"
      ]
     },
     "execution_count": 59,
     "metadata": {},
     "output_type": "execute_result"
    }
   ],
   "source": [
    "lst"
   ]
  },
  {
   "cell_type": "code",
   "execution_count": 60,
   "metadata": {},
   "outputs": [
    {
     "name": "stdout",
     "output_type": "stream",
     "text": [
      "Ushba ,I invite you on dinner at 8:00 O'clock\n",
      "Umar ,I invite you on dinner at 8:00 O'clock\n",
      "Asad ,I invite you on dinner at 8:00 O'clock\n"
     ]
    }
   ],
   "source": [
    "for x in lst:\n",
    "    print(x,\",I invite you on dinner at 8:00 O'clock\")"
   ]
  },
  {
   "cell_type": "markdown",
   "metadata": {},
   "source": [
    "<h3>Q 4 (c) : You just found a bigger dinner table, so now more space is\n",
    "available. Think of three more guests to invite to dinner.<br/></br><br/>\n",
    "•\t Start with your program from Q 4 (a) and (b) Add a print\n",
    "statement to the end of your program informing people that you found a\n",
    "bigger dinner table.<br/></br><br/>\n",
    "•\t Use insert() to add one new guest to the beginning of your list.<br/></br><br/>\n",
    "•\t Use insert() to add one new guest to the middle of your list.<br/></br><br/>\n",
    "•\t Use append() to add one new guest to the end of your list.<br/></br><br/>\n",
    "•\t Print a new set of invitation messages, one for each person in your list.<br/></br><br/></h3>"
   ]
  },
  {
   "cell_type": "code",
   "execution_count": 61,
   "metadata": {},
   "outputs": [
    {
     "name": "stdout",
     "output_type": "stream",
     "text": [
      "Ushba , I found a bigger dinner table\n",
      "Umar , I found a bigger dinner table\n",
      "Asad , I found a bigger dinner table\n"
     ]
    }
   ],
   "source": [
    "for x in lst:\n",
    "    print(x,\", I found a bigger dinner table\")"
   ]
  },
  {
   "cell_type": "code",
   "execution_count": 63,
   "metadata": {},
   "outputs": [],
   "source": [
    "lst.insert(0,'Akbar')"
   ]
  },
  {
   "cell_type": "code",
   "execution_count": 64,
   "metadata": {},
   "outputs": [],
   "source": [
    "lst.insert(2,'Dua')"
   ]
  },
  {
   "cell_type": "code",
   "execution_count": 65,
   "metadata": {},
   "outputs": [],
   "source": [
    "lst.append('Qirat')"
   ]
  },
  {
   "cell_type": "code",
   "execution_count": 66,
   "metadata": {},
   "outputs": [
    {
     "name": "stdout",
     "output_type": "stream",
     "text": [
      "Akbar ,You all are invite you on dinner at 8:00 O'clock\n",
      "Ushba ,You all are invite you on dinner at 8:00 O'clock\n",
      "Dua ,You all are invite you on dinner at 8:00 O'clock\n",
      "Umar ,You all are invite you on dinner at 8:00 O'clock\n",
      "Asad ,You all are invite you on dinner at 8:00 O'clock\n",
      "Qirat ,You all are invite you on dinner at 8:00 O'clock\n"
     ]
    }
   ],
   "source": [
    "for x in lst:\n",
    "    print(x,\",You all are invite you on dinner at 8:00 O'clock\")"
   ]
  },
  {
   "cell_type": "markdown",
   "metadata": {},
   "source": [
    "<h5> Q 5 : Here you have some data in variable below, your task is to make a list of specific word Surah then print the list and length of list</h5>\n"
   ]
  },
  {
   "cell_type": "code",
   "execution_count": 27,
   "metadata": {},
   "outputs": [],
   "source": [
    "data = \"Sura I Who believe in the Unseen, Sura Are steadfast in prayer, And spend Sura out of what We Have provided for them;\""
   ]
  },
  {
   "cell_type": "code",
   "execution_count": 28,
   "metadata": {},
   "outputs": [
    {
     "data": {
      "text/plain": [
       "'Sura I Who believe in the Unseen, Sura Are steadfast in prayer, And spend Sura out of what We Have provided for them;'"
      ]
     },
     "execution_count": 28,
     "metadata": {},
     "output_type": "execute_result"
    }
   ],
   "source": [
    "data"
   ]
  },
  {
   "cell_type": "code",
   "execution_count": 29,
   "metadata": {},
   "outputs": [],
   "source": [
    "data = data.split(\" \")"
   ]
  },
  {
   "cell_type": "code",
   "execution_count": 30,
   "metadata": {},
   "outputs": [
    {
     "data": {
      "text/plain": [
       "['Sura',\n",
       " 'I',\n",
       " 'Who',\n",
       " 'believe',\n",
       " 'in',\n",
       " 'the',\n",
       " 'Unseen,',\n",
       " 'Sura',\n",
       " 'Are',\n",
       " 'steadfast',\n",
       " 'in',\n",
       " 'prayer,',\n",
       " 'And',\n",
       " 'spend',\n",
       " 'Sura',\n",
       " 'out',\n",
       " 'of',\n",
       " 'what',\n",
       " 'We',\n",
       " 'Have',\n",
       " 'provided',\n",
       " 'for',\n",
       " 'them;']"
      ]
     },
     "execution_count": 30,
     "metadata": {},
     "output_type": "execute_result"
    }
   ],
   "source": [
    "data"
   ]
  },
  {
   "cell_type": "code",
   "execution_count": 31,
   "metadata": {},
   "outputs": [],
   "source": [
    "newlst = []"
   ]
  },
  {
   "cell_type": "code",
   "execution_count": 32,
   "metadata": {},
   "outputs": [],
   "source": [
    "for i in data:\n",
    "    if(i == 'Sura'):\n",
    "          newlst.append('Sura')\n",
    "\n",
    "            \n",
    "    "
   ]
  },
  {
   "cell_type": "code",
   "execution_count": 35,
   "metadata": {},
   "outputs": [
    {
     "name": "stdout",
     "output_type": "stream",
     "text": [
      "['Sura', 'Sura', 'Sura']\n",
      "3 time Sura appears in this data.\n"
     ]
    }
   ],
   "source": [
    "print(newlst)\n",
    "print(len(newlst),\"time Sura appears in this data.\")"
   ]
  },
  {
   "cell_type": "code",
   "execution_count": null,
   "metadata": {},
   "outputs": [],
   "source": []
  },
  {
   "cell_type": "markdown",
   "metadata": {},
   "source": [
    " <h3>Q no 6 : You have some name of cities in list named cities, Your task is to check whether Karachi is present in this list or not, if present print the index where the value Karachi is present</h3>"
   ]
  },
  {
   "cell_type": "code",
   "execution_count": null,
   "metadata": {},
   "outputs": [],
   "source": []
  },
  {
   "cell_type": "code",
   "execution_count": 7,
   "metadata": {},
   "outputs": [
    {
     "name": "stdout",
     "output_type": "stream",
     "text": [
      "karachi is present in list\n",
      "Index value of karachi is : 2\n"
     ]
    }
   ],
   "source": [
    "cities = ['lahore','islamabad','karachi','peshawar','quetta']\n",
    "for i in cities:\n",
    "    if (i =='karachi'):\n",
    "        print(\"karachi is present in list\")\n",
    "print(\"Index value of karachi is :\",cities.index('karachi'))"
   ]
  },
  {
   "cell_type": "code",
   "execution_count": 74,
   "metadata": {},
   "outputs": [],
   "source": []
  },
  {
   "cell_type": "code",
   "execution_count": null,
   "metadata": {},
   "outputs": [],
   "source": []
  }
 ],
 "metadata": {
  "kernelspec": {
   "display_name": "Python 3",
   "language": "python",
   "name": "python3"
  },
  "language_info": {
   "codemirror_mode": {
    "name": "ipython",
    "version": 3
   },
   "file_extension": ".py",
   "mimetype": "text/x-python",
   "name": "python",
   "nbconvert_exporter": "python",
   "pygments_lexer": "ipython3",
   "version": "3.7.1"
  }
 },
 "nbformat": 4,
 "nbformat_minor": 2
}
